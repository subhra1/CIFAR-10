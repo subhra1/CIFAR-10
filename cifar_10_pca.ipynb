{
 "cells": [
  {
   "cell_type": "code",
   "execution_count": 1,
   "metadata": {},
   "outputs": [],
   "source": [
    "\n",
    "import os\n",
    "import time\n",
    "import numpy as np\n",
    "\n",
    "import matplotlib.pyplot as plt\n",
    "import matplotlib as mpl\n",
    "%matplotlib inline"
   ]
  },
  {
   "cell_type": "code",
   "execution_count": 2,
   "metadata": {},
   "outputs": [
    {
     "name": "stderr",
     "output_type": "stream",
     "text": [
      "Clipping input data to the valid range for imshow with RGB data ([0..1] for floats or [0..255] for integers).\n",
      "Clipping input data to the valid range for imshow with RGB data ([0..1] for floats or [0..255] for integers).\n",
      "Clipping input data to the valid range for imshow with RGB data ([0..1] for floats or [0..255] for integers).\n",
      "Clipping input data to the valid range for imshow with RGB data ([0..1] for floats or [0..255] for integers).\n"
     ]
    },
    {
     "name": "stdout",
     "output_type": "stream",
     "text": [
      "Train image shape:    (49000, 32, 32, 3)\n",
      "Train label shape:    (49000,)\n",
      "Validate image shape: (1000, 32, 32, 3)\n",
      "Validate label shape: (1000,)\n",
      "Test image shape:     (10000, 32, 32, 3)\n",
      "Test label shape:     (10000,)\n"
     ]
    },
    {
     "data": {
      "image/png": "[encoded data removed]",
      "text/plain": [
       "<Figure size 432x288 with 4 Axes>"
      ]
     },
     "metadata": {
      "needs_background": "light"
     },
     "output_type": "display_data"
    }
   ],
   "source": [
    "# Load the CIFAR10 dataset\n",
    "from keras.datasets import cifar10\n",
    "baseDir = os.path.dirname(os.path.abspath('__file__')) + '/'\n",
    "classesName = ['plane', 'car', 'bird', 'cat', 'deer', 'dog', 'frog', 'horse', 'ship', 'truck']\n",
    "(xTrain, yTrain), (xTest, yTest) = cifar10.load_data()\n",
    "xVal = xTrain[49000:, :].astype(np.float)\n",
    "yVal = np.squeeze(yTrain[49000:, :])\n",
    "xTrain = xTrain[:49000, :].astype(np.float)\n",
    "yTrain = np.squeeze(yTrain[:49000, :])\n",
    "yTest = np.squeeze(yTest)\n",
    "xTest = xTest.astype(np.float)\n",
    "\n",
    "# Show dimension for each variable\n",
    "print ('Train image shape:    {0}'.format(xTrain.shape))\n",
    "print ('Train label shape:    {0}'.format(yTrain.shape))\n",
    "print ('Validate image shape: {0}'.format(xVal.shape))\n",
    "print ('Validate label shape: {0}'.format(yVal.shape))\n",
    "print ('Test image shape:     {0}'.format(xTest.shape))\n",
    "print ('Test label shape:     {0}'.format(yTest.shape))\n",
    "\n",
    "# Show some CIFAR10 images\n",
    "plt.subplot(221)\n",
    "plt.imshow(xTrain[0])\n",
    "plt.axis('off')\n",
    "plt.title(classesName[yTrain[0]])\n",
    "plt.subplot(222)\n",
    "plt.imshow(xTrain[1])\n",
    "plt.axis('off')\n",
    "plt.title(classesName[yTrain[1]])\n",
    "plt.subplot(223)\n",
    "plt.imshow(xVal[0])\n",
    "plt.axis('off')\n",
    "plt.title(classesName[yVal[1]])\n",
    "plt.subplot(224)\n",
    "plt.imshow(xTest[0])\n",
    "plt.axis('off')\n",
    "plt.title(classesName[yTest[0]])\n",
    "plt.savefig(baseDir+'svm0.png')\n",
    "# plt.clf()\n",
    "plt.show()\n",
    "# print(xTrain[0])"
   ]
  },
  {
   "cell_type": "code",
   "execution_count": 3,
   "metadata": {},
   "outputs": [
    {
     "name": "stdout",
     "output_type": "stream",
     "text": [
      "(49000, 32, 32, 3)\n",
      "(49000,)\n",
      "(49000, 3072)\n",
      "[ 59.  62.  63. ... 123.  92.  72.]\n",
      "(49000, 3072)\n",
      "[-0.5372549  -0.51372549 -0.50588235 ... -0.03529412 -0.27843137\n",
      " -0.43529412]\n"
     ]
    }
   ],
   "source": [
    "print(xTrain.shape)\n",
    "print(yTrain.shape)\n",
    "xTrain = np.reshape(xTrain, (xTrain.shape[0], -1)) # The -1 means that the corresponding dimension is calculated from the other given dimensions.\n",
    "xVal = np.reshape(xVal, (xVal.shape[0], -1))\n",
    "xTest = np.reshape(xTest, (xTest.shape[0], -1))\n",
    "print(xTrain.shape) \n",
    "print(xTrain[0])\n",
    "\n",
    "#Normalize \n",
    "xTrain=((xTrain/255)*2)-1 \n",
    "print(xTrain.shape)\n",
    "print(xTrain[0])"
   ]
  },
  {
   "cell_type": "code",
   "execution_count": 4,
   "metadata": {},
   "outputs": [
    {
     "name": "stdout",
     "output_type": "stream",
     "text": [
      "[6 9 9 ... 6 6 4]\n",
      "(3000, 3072)\n",
      "(3000,)\n"
     ]
    }
   ],
   "source": [
    "\n",
    "#Choosing a smaller dataset\n",
    "xTrain=xTrain[:3000,:]\n",
    "yTrain=yTrain[:3000]\n",
    "print(yTrain)\n",
    "print(xTrain.shape)\n",
    "print(yTrain.shape)"
   ]
  },
  {
   "cell_type": "code",
   "execution_count": 5,
   "metadata": {},
   "outputs": [],
   "source": [
    "from sklearn import svm\n",
    "\n",
    "def svm_linear(c):\n",
    "    svc = svm.SVC(probability = False, kernel = 'linear', C = c)\n",
    "    \n",
    "    svc.fit(xTrain, yTrain) \n",
    "    \n",
    "    # Find the prediction and accuracy on the training set.\n",
    "    Yhat_svc_linear_train = svc.predict(xTrain)\n",
    "    acc_train = np.mean(Yhat_svc_linear_train == yTrain)\n",
    "    acc_train_svm_linear.append(acc_train)\n",
    "    print('Train Accuracy = {0:f}'.format(acc_train))\n",
    "    \n",
    "    # Find the prediction and accuracy on the test set.\n",
    "    Yhat_svc_linear_test = svc.predict(xVal)\n",
    "    acc_test = np.mean(Yhat_svc_linear_test == yVal)\n",
    "    acc_test_svm_linear.append(acc_test)\n",
    "    print('Test Accuracy = {0:f}'.format(acc_test))"
   ]
  },
  {
   "cell_type": "code",
   "execution_count": 6,
   "metadata": {},
   "outputs": [
    {
     "name": "stdout",
     "output_type": "stream",
     "text": [
      "Train Accuracy = 0.354667\n",
      "Test Accuracy = 0.098000\n",
      "Train Accuracy = 0.484667\n",
      "Test Accuracy = 0.188000\n",
      "Train Accuracy = 0.709333\n",
      "Test Accuracy = 0.253000\n",
      "Train Accuracy = 0.989667\n",
      "Test Accuracy = 0.286000\n",
      "Train Accuracy = 1.000000\n",
      "Test Accuracy = 0.279000\n",
      "Train Accuracy = 1.000000\n",
      "Test Accuracy = 0.279000\n",
      "Train Accuracy = 1.000000\n",
      "Test Accuracy = 0.279000\n"
     ]
    },
    {
     "data": {
      "image/png": "[encoded data removed]",
      "text/plain": [
       "<Figure size 432x288 with 1 Axes>"
      ]
     },
     "metadata": {
      "needs_background": "light"
     },
     "output_type": "display_data"
    }
   ],
   "source": [
    "\n",
    "c_svm_linear = [0.0001,0.001,0.01,0.1,1,10,100]\n",
    "acc_train_svm_linear = []\n",
    "acc_test_svm_linear = []\n",
    "\n",
    "for c in c_svm_linear:\n",
    "    svm_linear(c)\n",
    "\n",
    "plt.plot(c_svm_linear, acc_train_svm_linear,'.-',color='red')\n",
    "plt.plot(c_svm_linear, acc_test_svm_linear,'.-',color='orange')\n",
    "plt.xlabel('c')\n",
    "plt.ylabel('Accuracy')\n",
    "plt.title(\"Plot of accuracy vs c for training and test data\")\n",
    "plt.grid()"
   ]
  },
  {
   "cell_type": "code",
   "execution_count": 7,
   "metadata": {},
   "outputs": [],
   "source": [
    "\n",
    "acc_train_svm_poly = []\n",
    "acc_test_svm_poly = []\n",
    "\n",
    "def svm_polynomial(c):\n",
    "\n",
    "    svc_polynomial = svm.SVC(probability = False, kernel = 'poly', C = c)\n",
    "    \n",
    "    \n",
    "    svc_polynomial.fit(xTrain, yTrain) \n",
    "    \n",
    "    # Find the prediction and accuracy on the training set.\n",
    "    Yhat_svc_polynomial_train = svc_polynomial.predict(xTrain)\n",
    "    acc_train = np.mean(Yhat_svc_polynomial_train == yTrain)\n",
    "    acc_train_svm_poly.append(acc_train)\n",
    "    print('Accuracy = {0:f}'.format(acc_train))\n",
    "    \n",
    "    # Find the prediction and accuracy on the test set.\n",
    "    Yhat_svc_polynomial_test = svc_polynomial.predict(xVal)\n",
    "    acc_test = np.mean(Yhat_svc_polynomial_test == yVal)\n",
    "    acc_test_svm_poly.append(acc_test)\n",
    "    print('Accuracy = {0:f}'.format(acc_test))"
   ]
  },
  {
   "cell_type": "code",
   "execution_count": 8,
   "metadata": {},
   "outputs": [
    {
     "name": "stdout",
     "output_type": "stream",
     "text": [
      "Accuracy = 0.107333\n",
      "Accuracy = 0.087000\n",
      "Accuracy = 0.107333\n",
      "Accuracy = 0.087000\n",
      "Accuracy = 0.120667\n",
      "Accuracy = 0.087000\n",
      "Accuracy = 0.272333\n",
      "Accuracy = 0.125000\n",
      "Accuracy = 0.722000\n",
      "Accuracy = 0.265000\n",
      "Accuracy = 0.963667\n",
      "Accuracy = 0.256000\n",
      "Accuracy = 0.998667\n",
      "Accuracy = 0.247000\n"
     ]
    },
    {
     "data": {
      "image/png": "[encoded data removed]",
      "text/plain": [
       "<Figure size 432x288 with 1 Axes>"
      ]
     },
     "metadata": {
      "needs_background": "light"
     },
     "output_type": "display_data"
    }
   ],
   "source": [
    "c_svm_poly = [0.0001,0.001,0.01,0.1,1,10,100]\n",
    "\n",
    "\n",
    "for c in c_svm_poly:\n",
    "    svm_polynomial(c)\n",
    "\n",
    "plt.plot(c_svm_poly, acc_train_svm_poly,'.-',color='red')\n",
    "plt.plot(c_svm_poly, acc_test_svm_poly,'.-',color='orange')\n",
    "plt.xlabel('c')\n",
    "plt.ylabel('Accuracy')\n",
    "plt.title(\"Plot of accuracy vs c for training and test data\")\n",
    "plt.grid()\n"
   ]
  },
  {
   "cell_type": "code",
   "execution_count": 9,
   "metadata": {},
   "outputs": [
    {
     "name": "stdout",
     "output_type": "stream",
     "text": [
      "Accuracy = 1.000000\n",
      "Accuracy = 0.254000\n",
      "Accuracy = 1.000000\n",
      "Accuracy = 0.256000\n",
      "Accuracy = 1.000000\n",
      "Accuracy = 0.256000\n"
     ]
    }
   ],
   "source": [
    "#Try more values of c for polynomial kernel.\n",
    "c_svm_poly_extended=[200,500,1000]\n",
    "for c in c_svm_poly_extended:\n",
    "    svm_polynomial(c)\n"
   ]
  },
  {
   "cell_type": "code",
   "execution_count": 10,
   "metadata": {},
   "outputs": [],
   "source": [
    "\n",
    "def svm_rbf(c, g):\n",
    "    svc_rbf = svm.SVC(probability = False, kernel = 'rbf', C = c, gamma = g)\n",
    "    \n",
    "    # Fit the classifier on the training set.\n",
    "    svc_rbf.fit(xTrain, yTrain) \n",
    "    \n",
    "    # Find the prediction and accuracy on the training set.\n",
    "    Yhat_svc_rbf_train = svc_rbf.predict(xTrain)\n",
    "    acc = np.mean(Yhat_svc_rbf_train == yTrain)\n",
    "    print('Train Accuracy = {0:f}'.format(acc))\n",
    "    acc_train_svm_rbf.append(acc)\n",
    "    \n",
    "    # Find the prediction and accuracy on the test set.\n",
    "    Yhat_svc_rbf_test = svc_rbf.predict(xVal)\n",
    "    acc = np.mean(Yhat_svc_rbf_test == yVal)\n",
    "    print('Test Accuracy = {0:f}'.format(acc))\n",
    "    acc_test_svm_rbf.append(acc)"
   ]
  },
  {
   "cell_type": "code",
   "execution_count": 11,
   "metadata": {},
   "outputs": [
    {
     "name": "stdout",
     "output_type": "stream",
     "text": [
      "Train Accuracy = 0.107333\n",
      "Test Accuracy = 0.079000\n",
      "Train Accuracy = 0.107333\n",
      "Test Accuracy = 0.079000\n",
      "Train Accuracy = 0.107333\n",
      "Test Accuracy = 0.079000\n",
      "Train Accuracy = 0.307333\n",
      "Test Accuracy = 0.119000\n",
      "Train Accuracy = 0.487333\n",
      "Test Accuracy = 0.119000\n",
      "Train Accuracy = 0.848333\n",
      "Test Accuracy = 0.105000\n",
      "Train Accuracy = 1.000000\n",
      "Test Accuracy = 0.119000\n"
     ]
    },
    {
     "data": {
      "image/png": "[encoded data removed]",
      "text/plain": [
       "<Figure size 432x288 with 1 Axes>"
      ]
     },
     "metadata": {
      "needs_background": "light"
     },
     "output_type": "display_data"
    }
   ],
   "source": [
    "acc_train_svm_rbf= []\n",
    "acc_test_svm_rbf = []\n",
    "c_svm_rbf = [0.0001,0.001,0.01,0.1,1,10,100]\n",
    "\n",
    "for c in c_svm_rbf:\n",
    "     svm_rbf(c, 'auto')\n",
    "    \n",
    "plt.plot(c_svm_rbf, acc_train_svm_rbf,'.-',color='red')\n",
    "plt.plot(c_svm_rbf, acc_test_svm_rbf,'.-',color='orange')\n",
    "plt.xlabel('c')\n",
    "plt.ylabel('Accuracy')\n",
    "plt.title(\"Plot of accuracy vs c for training and test data\")\n",
    "plt.grid()"
   ]
  },
  {
   "cell_type": "code",
   "execution_count": 12,
   "metadata": {},
   "outputs": [
    {
     "name": "stdout",
     "output_type": "stream",
     "text": [
      "SVM Linear Training Accuracy =  [0.3546666666666667, 0.4846666666666667, 0.7093333333333334, 0.9896666666666667, 1.0, 1.0, 1.0]\n",
      "SVM Linear Test Accuracy =  [0.098, 0.188, 0.253, 0.286, 0.279, 0.279, 0.279]\n",
      "SVM Polynomial Training Accuracy =  [0.10733333333333334, 0.10733333333333334, 0.12066666666666667, 0.2723333333333333, 0.722, 0.9636666666666667, 0.9986666666666667, 1.0, 1.0, 1.0]\n",
      "SVM Polynomial Test Accuracy =  [0.087, 0.087, 0.087, 0.125, 0.265, 0.256, 0.247, 0.254, 0.256, 0.256]\n",
      "SVM RBF Training Accuracy =  [0.10733333333333334, 0.10733333333333334, 0.10733333333333334, 0.30733333333333335, 0.48733333333333334, 0.8483333333333334, 1.0]\n",
      "SVM RBF Test Accuracy =  [0.079, 0.079, 0.079, 0.119, 0.119, 0.105, 0.119]\n"
     ]
    }
   ],
   "source": [
    "\n",
    "# for i in range(len(acc_train_svm_linear)): \n",
    "#     acc_train_svm_linear[i]=round(acc_train_svm_linear[i],3)\n",
    "#     acc_test_svm_linear[i]=round(acc_test_svm_linear[i],3)\n",
    "#     acc_train_svm_poly[i]=round(acc_train_svm_poly[i],3)\n",
    "#     acc_test_svm_poly[i]=round(acc_test_svm_poly[i],3)\n",
    "#     acc_train_svm_rbf[i]=round(acc_train_svm_rbf[i],3)\n",
    "#     acc_test_svm_rbf[i]=round(acc_test_svm_rbf[i],3)\n",
    "    \n",
    "\n",
    "    \n",
    "print(\"SVM Linear Training Accuracy = \", acc_train_svm_linear)\n",
    "print(\"SVM Linear Test Accuracy = \", acc_test_svm_linear)\n",
    "print(\"SVM Polynomial Training Accuracy = \", acc_train_svm_poly)\n",
    "print(\"SVM Polynomial Test Accuracy = \", acc_test_svm_poly)\n",
    "print(\"SVM RBF Training Accuracy = \", acc_train_svm_rbf)\n",
    "print(\"SVM RBF Test Accuracy = \", acc_test_svm_rbf)"
   ]
  },
  {
   "cell_type": "code",
   "execution_count": 13,
   "metadata": {},
   "outputs": [
    {
     "name": "stdout",
     "output_type": "stream",
     "text": [
      "(49000, 32, 32, 3)\n",
      "(49000,)\n",
      "(49000, 3072)\n",
      "[ 59.  62.  63. ... 123.  92.  72.]\n",
      "(49000, 3072)\n",
      "[-0.5372549  -0.51372549 -0.50588235 ... -0.03529412 -0.27843137\n",
      " -0.43529412]\n"
     ]
    }
   ],
   "source": [
    "#Train with 10000 examples with linear kernel (c=0.1)\n",
    "\n",
    "# Load the CIFAR10 dataset\n",
    "from keras.datasets import cifar10\n",
    "baseDir = os.path.dirname(os.path.abspath('__file__')) + '/'\n",
    "classesName = ['plane', 'car', 'bird', 'cat', 'deer', 'dog', 'frog', 'horse', 'ship', 'truck']\n",
    "(xTrain, yTrain), (xTest, yTest) = cifar10.load_data()\n",
    "xVal = xTrain[49000:, :].astype(np.float)\n",
    "yVal = np.squeeze(yTrain[49000:, :])\n",
    "xTrain = xTrain[:49000, :].astype(np.float)\n",
    "yTrain = np.squeeze(yTrain[:49000, :])\n",
    "yTest = np.squeeze(yTest)\n",
    "xTest = xTest.astype(np.float)\n",
    "\n",
    "print(xTrain.shape)\n",
    "print(yTrain.shape)\n",
    "xTrain = np.reshape(xTrain, (xTrain.shape[0], -1)) # The -1 means that the corresponding dimension is calculated from the other given dimensions.\n",
    "xVal = np.reshape(xVal, (xVal.shape[0], -1))\n",
    "xTest = np.reshape(xTest, (xTest.shape[0], -1))\n",
    "print(xTrain.shape) \n",
    "print(xTrain[0])\n",
    "\n",
    "#Normalize\n",
    "xTrain=((xTrain/255)*2)-1 \n",
    "print(xTrain.shape)\n",
    "print(xTrain[0])"
   ]
  },
  {
   "cell_type": "code",
   "execution_count": 14,
   "metadata": {},
   "outputs": [
    {
     "name": "stdout",
     "output_type": "stream",
     "text": [
      "[6 9 9 ... 1 1 5]\n",
      "(10000, 3072)\n",
      "(10000,)\n"
     ]
    },
    {
     "data": {
      "text/plain": [
       "SVC(C=0.1, kernel='linear')"
      ]
     },
     "execution_count": 14,
     "metadata": {},
     "output_type": "execute_result"
    }
   ],
   "source": [
    "\n",
    "xTrain=xTrain[:10000,:]\n",
    "yTrain=yTrain[:10000]\n",
    "print(yTrain)\n",
    "print(xTrain.shape)\n",
    "print(yTrain.shape)\n",
    "\n",
    "from sklearn import svm\n",
    "svc = svm.SVC(probability = False, kernel = 'linear', C = 0.1)\n",
    "svc.fit(xTrain, yTrain)"
   ]
  },
  {
   "cell_type": "code",
   "execution_count": 15,
   "metadata": {},
   "outputs": [
    {
     "name": "stdout",
     "output_type": "stream",
     "text": [
      "Test Accuracy = 0.293000\n"
     ]
    }
   ],
   "source": [
    "\n",
    "Yhat_svc_linear_test = svc.predict(xVal)\n",
    "acc_test = np.mean(Yhat_svc_linear_test == yVal)\n",
    "print('Test Accuracy = {0:f}'.format(acc_test))"
   ]
  },
  {
   "cell_type": "code",
   "execution_count": 16,
   "metadata": {},
   "outputs": [],
   "source": [
    "\n",
    "def plt_img(x):\n",
    "    nrow = 32\n",
    "    ncol = 32\n",
    "    ncolors=3\n",
    "    xsq = x.reshape((nrow,ncol,ncolors))\n",
    "    plt.imshow(xsq)\n",
    "#     plt.xticks([])\n",
    "#     plt.yticks([])"
   ]
  },
  {
   "cell_type": "code",
   "execution_count": 17,
   "metadata": {},
   "outputs": [
    {
     "name": "stderr",
     "output_type": "stream",
     "text": [
      "Clipping input data to the valid range for imshow with RGB data ([0..1] for floats or [0..255] for integers).\n",
      "Clipping input data to the valid range for imshow with RGB data ([0..1] for floats or [0..255] for integers).\n",
      "Clipping input data to the valid range for imshow with RGB data ([0..1] for floats or [0..255] for integers).\n",
      "Clipping input data to the valid range for imshow with RGB data ([0..1] for floats or [0..255] for integers).\n"
     ]
    },
    {
     "data": {
      "image/png": "[encoded data removed]",
      "text/plain": [
       "<Figure size 720x288 with 4 Axes>"
      ]
     },
     "metadata": {
      "needs_background": "light"
     },
     "output_type": "display_data"
    }
   ],
   "source": [
    "#Plotting some of the errors\n",
    "Ierr = np.where((Yhat_svc_linear_test != yVal))[0]\n",
    "nplt = 4\n",
    "plt.figure(figsize=(10, 4))\n",
    "for i in range(nplt):        \n",
    "    plt.subplot(1,nplt,i+1)        \n",
    "    ind = Ierr[i]    \n",
    "    plt_img(xVal[ind,:])        \n",
    "    title = 'true={0:s} est={1:s}'.format(classesName[yVal[ind].astype(int)], classesName[Yhat_svc_linear_test[ind].astype(int)])\n",
    "    plt.title(title)"
   ]
  },
  {
   "cell_type": "code",
   "execution_count": 18,
   "metadata": {},
   "outputs": [
    {
     "name": "stdout",
     "output_type": "stream",
     "text": [
      "(49000, 32, 32, 3)\n",
      "(49000,)\n",
      "(49000, 3072)\n",
      "[ 59.  62.  63. ... 123.  92.  72.]\n",
      "[6 9 9 ... 1 1 5]\n",
      "(10000, 3072)\n",
      "(10000,)\n",
      "Test Accuracy = 0.306000\n"
     ]
    }
   ],
   "source": [
    "import os\n",
    "import time\n",
    "import numpy as np\n",
    "\n",
    "\n",
    "import matplotlib.pyplot as plt\n",
    "import matplotlib as mpl\n",
    "%matplotlib inline\n",
    "\n",
    "\n",
    "# Load the CIFAR10 dataset\n",
    "from keras.datasets import cifar10\n",
    "baseDir = os.path.dirname(os.path.abspath('__file__')) + '/'\n",
    "classesName = ['plane', 'car', 'bird', 'cat', 'deer', 'dog', 'frog', 'horse', 'ship', 'truck']\n",
    "(xTrain, yTrain), (xTest, yTest) = cifar10.load_data()\n",
    "xVal = xTrain[49000:, :].astype(np.float)\n",
    "yVal = np.squeeze(yTrain[49000:, :])\n",
    "xTrain = xTrain[:49000, :].astype(np.float)\n",
    "yTrain = np.squeeze(yTrain[:49000, :])\n",
    "yTest = np.squeeze(yTest)\n",
    "xTest = xTest.astype(np.float)\n",
    "\n",
    "print(xTrain.shape)\n",
    "print(yTrain.shape)\n",
    "xTrain = np.reshape(xTrain, (xTrain.shape[0], -1)) # The -1 means that the corresponding dimension is calculated from the other given dimensions.\n",
    "xVal = np.reshape(xVal, (xVal.shape[0], -1))\n",
    "xTest = np.reshape(xTest, (xTest.shape[0], -1))\n",
    "print(xTrain.shape) \n",
    "print(xTrain[0])\n",
    "\n",
    "# #Normalize \n",
    "# xTrain=((xTrain/255)*2)-1 \n",
    "# print(xTrain.shape)\n",
    "# print(xTrain[0])\n",
    "\n",
    "#Running SVM \n",
    "xTrain=xTrain[:10000,:]\n",
    "yTrain=yTrain[:10000]\n",
    "print(yTrain)\n",
    "print(xTrain.shape)\n",
    "print(yTrain.shape)\n",
    "from sklearn import svm\n",
    "svc = svm.SVC(probability=False,  kernel=\"linear\", C=0.1)\n",
    "svc.fit(xTrain, yTrain)\n",
    "\n",
    "Yhat_svc_linear_test = svc.predict(xVal)\n",
    "acc_test = np.mean(Yhat_svc_linear_test == yVal)\n",
    "print('Test Accuracy = {0:f}'.format(acc_test))"
   ]
  },
  {
   "cell_type": "code",
   "execution_count": 19,
   "metadata": {},
   "outputs": [
    {
     "name": "stdout",
     "output_type": "stream",
     "text": [
      "(32, 32, 3)\n",
      "---------------------\n",
      "(49000, 32, 32, 3)\n",
      "(49000,)\n",
      "(49000, 3072)\n",
      "[-71.64189796 -73.98173469 -69.47391837 ...  -3.64218367 -33.86195918\n",
      " -42.39957143]\n",
      "[6 9 9 ... 1 1 5]\n",
      "(10000, 3072)\n",
      "(10000,)\n",
      "Test Accuracy = 0.306000\n"
     ]
    }
   ],
   "source": [
    "import os\n",
    "import time\n",
    "import numpy as np\n",
    "\n",
    "\n",
    "import matplotlib.pyplot as plt\n",
    "import matplotlib as mpl\n",
    "%matplotlib inline\n",
    "\n",
    "\n",
    "# Load the CIFAR10 dataset\n",
    "from keras.datasets import cifar10\n",
    "baseDir = os.path.dirname(os.path.abspath('__file__')) + '/'\n",
    "classesName = ['plane', 'car', 'bird', 'cat', 'deer', 'dog', 'frog', 'horse', 'ship', 'truck']\n",
    "(xTrain, yTrain), (xTest, yTest) = cifar10.load_data()\n",
    "xVal = xTrain[49000:, :].astype(np.float)\n",
    "yVal = np.squeeze(yTrain[49000:, :])\n",
    "xTrain = xTrain[:49000, :].astype(np.float)\n",
    "yTrain = np.squeeze(yTrain[:49000, :])\n",
    "yTest = np.squeeze(yTest)\n",
    "xTest = xTest.astype(np.float)\n",
    "\n",
    "\n",
    "meanImage = np.mean(xTrain, axis=0)\n",
    "print(meanImage.shape)\n",
    "print('---------------------')\n",
    "xTrain -= meanImage\n",
    "xVal -= meanImage\n",
    "xTest -= meanImage\n",
    "\n",
    "\n",
    "\n",
    "print(xTrain.shape)\n",
    "print(yTrain.shape)\n",
    "xTrain = np.reshape(xTrain, (xTrain.shape[0], -1)) # The -1 means that the corresponding dimension is calculated from the other given dimensions.\n",
    "xVal = np.reshape(xVal, (xVal.shape[0], -1))\n",
    "xTest = np.reshape(xTest, (xTest.shape[0], -1))\n",
    "print(xTrain.shape) \n",
    "print(xTrain[0])\n",
    "\n",
    "\n",
    "\n",
    "#Running SVM \n",
    "xTrain=xTrain[:10000,:]\n",
    "yTrain=yTrain[:10000]\n",
    "print(yTrain)\n",
    "print(xTrain.shape)\n",
    "print(yTrain.shape)\n",
    "from sklearn import svm\n",
    "svc = svm.SVC(probability=False,  kernel=\"linear\", C=0.1)\n",
    "svc.fit(xTrain, yTrain)\n",
    "\n",
    "Yhat_svc_linear_test = svc.predict(xVal)\n",
    "acc_test = np.mean(Yhat_svc_linear_test == yVal)\n",
    "print('Test Accuracy = {0:f}'.format(acc_test))"
   ]
  },
  {
   "cell_type": "markdown",
   "metadata": {},
   "source": [
    "### Cumulative Explained Variance against Number of Components"
   ]
  },
  {
   "cell_type": "code",
   "execution_count": 20,
   "metadata": {},
   "outputs": [
    {
     "data": {
      "image/png": "[encoded data removed]",
      "text/plain": [
       "<Figure size 432x288 with 1 Axes>"
      ]
     },
     "metadata": {
      "needs_background": "light"
     },
     "output_type": "display_data"
    }
   ],
   "source": [
    "combined=np.vstack((xTrain,xVal))\n",
    "from sklearn.decomposition import PCA\n",
    "pca = PCA().fit(combined)\n",
    "plt.plot(np.cumsum(pca.explained_variance_ratio_))\n",
    "plt.xlabel('number of components')\n",
    "plt.ylabel('cumulative explained variance');"
   ]
  },
  {
   "cell_type": "code",
   "execution_count": 21,
   "metadata": {},
   "outputs": [
    {
     "name": "stdout",
     "output_type": "stream",
     "text": [
      "0.9306473212588604\n",
      "0.984641073551845\n"
     ]
    }
   ],
   "source": [
    "print(pca.explained_variance_ratio_.cumsum()[149])\n",
    "print(pca.explained_variance_ratio_.cumsum()[499])"
   ]
  },
  {
   "cell_type": "markdown",
   "metadata": {},
   "source": [
    "### Using 150 dimensions"
   ]
  },
  {
   "cell_type": "code",
   "execution_count": 22,
   "metadata": {},
   "outputs": [
    {
     "name": "stdout",
     "output_type": "stream",
     "text": [
      "(150,)\n",
      "(150, 3072)\n",
      "(11000, 3072)\n",
      "(11000, 150)\n"
     ]
    }
   ],
   "source": [
    "# Reduce to 150 dimensions.\n",
    "pca = PCA(n_components=150) # project from 3072 to 150 dimensions\n",
    "pca.fit(combined)\n",
    "projected = pca.transform(combined)\n",
    "print(pca.explained_variance_.shape)\n",
    "print(pca.components_.shape)\n",
    "print(combined.shape)\n",
    "print(projected.shape)"
   ]
  },
  {
   "cell_type": "code",
   "execution_count": 23,
   "metadata": {},
   "outputs": [],
   "source": [
    "x_train=projected[:10000,:]\n",
    "y_train=yTrain\n",
    "\n",
    "x_test=projected[10000:,:]\n",
    "y_test=yVal"
   ]
  },
  {
   "cell_type": "code",
   "execution_count": 24,
   "metadata": {},
   "outputs": [
    {
     "name": "stdout",
     "output_type": "stream",
     "text": [
      "(10000, 150)\n",
      "(10000,)\n",
      "(1000, 150)\n",
      "(1000,)\n"
     ]
    }
   ],
   "source": [
    "print(x_train.shape)\n",
    "print(y_train.shape)\n",
    "print(x_test.shape)\n",
    "print(y_test.shape)"
   ]
  },
  {
   "cell_type": "code",
   "execution_count": 25,
   "metadata": {},
   "outputs": [
    {
     "data": {
      "text/plain": [
       "SVC(C=1, kernel='poly')"
      ]
     },
     "execution_count": 25,
     "metadata": {},
     "output_type": "execute_result"
    }
   ],
   "source": [
    "from sklearn import svm   #After running various iterations, the polynomial kernel was chosen as the best kernel in this case.\n",
    "svc = svm.SVC(probability=False,  kernel=\"poly\", C=1)\n",
    "svc.fit(x_train, y_train)"
   ]
  },
  {
   "cell_type": "code",
   "execution_count": 26,
   "metadata": {},
   "outputs": [
    {
     "name": "stdout",
     "output_type": "stream",
     "text": [
      "Train Accuracy = 0.675800\n",
      "[6 9 9 ... 1 1 7]\n"
     ]
    }
   ],
   "source": [
    "pred = svc.predict(x_train)\n",
    "acc_train = np.mean(pred == y_train)\n",
    "print('Train Accuracy = {0:f}'.format(acc_train))\n",
    "print(pred)"
   ]
  },
  {
   "cell_type": "code",
   "execution_count": 27,
   "metadata": {},
   "outputs": [
    {
     "name": "stdout",
     "output_type": "stream",
     "text": [
      "Test Accuracy = 0.403000\n",
      "[8 4 2 7 2 2 0 8 2 3 7 9 9 2 4 3 2 2 8 2 2 1 4 2 8 2 9 2 2 8 4 1 2 4 3 9 2\n",
      " 7 2 3 1 6 8 8 6 1 2 4 5 2 0 2 5 4 8 4 6 9 7 2 8 2 2 9 9 9 1 0 4 3 2 7 2 4\n",
      " 4 2 7 2 3 0 6 2 1 3 1 8 8 8 2 2 8 0 2 2 6 6 1 4 4 2 8 5 8 7 2 6 4 0 8 4 4\n",
      " 7 9 3 4 1 3 2 2 6 3 4 1 9 2 9 2 2 0 3 0 2 9 2 8 6 2 9 4 7 2 4 2 2 2 6 6 1\n",
      " 9 2 1 2 0 2 0 2 2 1 9 2 8 8 7 1 0 1 8 8 0 0 3 6 2 8 0 7 9 2 2 4 8 9 9 7 8\n",
      " 2 1 4 5 2 5 8 4 8 8 8 8 3 4 7 4 8 2 7 1 1 9 2 9 6 4 9 1 2 2 2 3 9 7 8 2 2\n",
      " 3 2 2 9 4 5 2 4 1 4 1 3 1 8 0 2 8 1 3 6 4 2 1 0 8 8 2 6 2 4 2 8 1 0 2 8 9\n",
      " 5 4 6 7 2 7 2 9 5 2 1 4 3 4 9 2 2 2 6 2 9 4 2 6 2 1 4 1 9 5 6 2 8 4 4 4 9\n",
      " 8 2 2 3 7 3 4 9 5 6 8 2 8 6 2 4 4 2 2 6 4 4 4 4 6 4 8 7 4 2 4 6 2 4 8 7 2\n",
      " 5 2 4 8 1 8 2 8 4 6 4 8 2 0 0 4 2 2 2 4 2 9 7 2 2 8 4 2 9 2 7 2 1 6 7 4 9\n",
      " 9 8 8 0 8 2 2 5 2 8 3 1 6 1 2 9 3 2 8 2 7 4 3 8 6 1 4 7 2 7 8 1 4 6 1 9 4\n",
      " 3 2 1 6 1 2 9 4 8 1 4 4 3 8 6 4 0 3 4 1 8 6 8 2 2 4 6 8 1 1 5 6 0 6 0 8 8\n",
      " 6 8 8 6 6 2 2 7 3 4 7 4 6 0 4 4 7 1 4 3 6 8 0 0 3 1 3 0 7 9 2 4 2 9 2 8 6\n",
      " 6 4 1 5 2 1 4 4 1 2 1 2 5 1 3 6 0 0 6 1 8 2 4 4 1 3 7 4 6 2 2 6 4 2 4 6 0\n",
      " 4 4 9 1 3 2 3 0 9 2 2 7 8 7 8 4 9 2 2 2 2 4 2 4 8 2 6 4 9 4 6 5 6 2 4 8 9\n",
      " 2 0 3 0 0 3 2 1 4 4 4 7 8 8 2 8 7 9 2 0 2 5 6 9 5 9 6 2 1 2 1 4 4 2 6 1 8\n",
      " 7 9 1 2 9 4 4 2 4 9 6 6 1 4 9 4 2 3 6 9 2 4 2 2 1 2 3 6 2 6 4 2 6 8 3 0 8\n",
      " 7 7 8 5 2 9 3 2 6 4 6 2 2 9 2 2 6 5 3 7 2 4 4 4 6 8 2 8 8 2 4 0 2 2 8 4 2\n",
      " 0 6 3 2 3 4 9 0 4 2 8 8 2 8 3 2 9 6 0 2 2 2 4 7 8 2 6 4 9 0 8 2 6 2 2 8 1\n",
      " 2 4 9 4 6 6 3 6 8 8 2 3 5 8 7 4 4 2 4 2 4 2 2 5 2 7 2 2 5 9 1 8 0 8 7 4 0\n",
      " 2 3 2 2 8 4 8 2 1 4 2 4 8 4 2 4 6 8 4 2 6 0 3 4 8 1 1 0 1 8 2 6 7 4 4 6 6\n",
      " 1 8 3 8 2 7 9 6 1 7 2 8 5 9 7 3 7 7 1 2 3 3 7 2 7 2 6 6 8 2 2 2 7 4 2 4 2\n",
      " 9 9 0 4 4 7 1 8 5 2 2 2 4 8 7 2 8 2 4 7 2 3 6 0 8 8 2 2 8 3 8 2 7 1 2 1 7\n",
      " 8 8 2 6 2 0 8 2 4 4 8 0 0 9 1 2 5 0 2 2 1 3 2 2 1 8 8 9 9 9 2 5 0 3 5 1 8\n",
      " 2 3 4 8 4 7 0 6 0 8 4 2 2 8 4 4 9 8 2 7 9 6 8 5 5 4 6 8 2 9 2 1 2 0 3 2 0\n",
      " 2 9 3 4 6 1 9 9 3 3 2 8 3 3 4 2 2 9 7 1 3 4 9 6 4 4 4 4 3 4 8 4 4 2 2 2 4\n",
      " 6 2 5 3 6 2 8 2 3 9 8 2 2 8 4 1 3 5 8 2 6 4 2 8 4 2 2 0 2 3 2 8 2 8 4 9 8\n",
      " 2]\n"
     ]
    }
   ],
   "source": [
    "pred = svc.predict(x_test)\n",
    "acc_test = np.mean(pred == y_test)\n",
    "print('Test Accuracy = {0:f}'.format(acc_test))\n",
    "print(pred)"
   ]
  },
  {
   "cell_type": "markdown",
   "metadata": {},
   "source": [
    "### Plotting Misclassified Images"
   ]
  },
  {
   "cell_type": "code",
   "execution_count": 28,
   "metadata": {},
   "outputs": [],
   "source": [
    "def plt_img(x):\n",
    "    nrow = 32\n",
    "    ncol = 32\n",
    "    ncolors=3\n",
    "    xsq = x.reshape((nrow,ncol,ncolors))\n",
    "    plt.imshow(xsq)\n",
    "#     plt.xticks([])\n",
    "#     plt.yticks([])"
   ]
  },
  {
   "cell_type": "code",
   "execution_count": 29,
   "metadata": {},
   "outputs": [
    {
     "name": "stderr",
     "output_type": "stream",
     "text": [
      "Clipping input data to the valid range for imshow with RGB data ([0..1] for floats or [0..255] for integers).\n",
      "Clipping input data to the valid range for imshow with RGB data ([0..1] for floats or [0..255] for integers).\n",
      "Clipping input data to the valid range for imshow with RGB data ([0..1] for floats or [0..255] for integers).\n",
      "Clipping input data to the valid range for imshow with RGB data ([0..1] for floats or [0..255] for integers).\n"
     ]
    },
    {
     "data": {
      "image/png": "[encoded data removed]",
      "text/plain": [
       "<Figure size 720x288 with 4 Axes>"
      ]
     },
     "metadata": {
      "needs_background": "light"
     },
     "output_type": "display_data"
    }
   ],
   "source": [
    "Ierr = np.where((pred != y_test))[0]\n",
    "np.random.shuffle(Ierr)\n",
    "nplt = 4\n",
    "plt.figure(figsize=(10, 4))\n",
    "for i in range(nplt):        \n",
    "    plt.subplot(1,nplt,i+1)        \n",
    "    ind = Ierr[i]    \n",
    "    plt_img(xVal[ind,:])        \n",
    "    title = 'true={0:s} est={1:s}'.format(classesName[y_test[ind].astype(int)], classesName[pred[ind].astype(int)])\n",
    "    plt.title(title)"
   ]
  },
  {
   "cell_type": "markdown",
   "metadata": {},
   "source": [
    "### Using 500 Dimensions"
   ]
  },
  {
   "cell_type": "code",
   "execution_count": 30,
   "metadata": {},
   "outputs": [
    {
     "name": "stdout",
     "output_type": "stream",
     "text": [
      "(500,)\n",
      "(500, 3072)\n",
      "(11000, 3072)\n",
      "(11000, 500)\n"
     ]
    }
   ],
   "source": [
    "# Reduce to 500 dimensions.\n",
    "\n",
    "pca = PCA(n_components=500) # project from 3072 to 500 dimensions\n",
    "pca.fit(combined)\n",
    "projected = pca.transform(combined)\n",
    "print(pca.explained_variance_.shape)\n",
    "print(pca.components_.shape)\n",
    "print(combined.shape)\n",
    "print(projected.shape)"
   ]
  },
  {
   "cell_type": "code",
   "execution_count": 31,
   "metadata": {},
   "outputs": [],
   "source": [
    "\n",
    "x_train=projected[:10000,:]\n",
    "y_train=yTrain\n",
    "\n",
    "x_test=projected[10000:,:]\n",
    "y_test=yVal"
   ]
  },
  {
   "cell_type": "code",
   "execution_count": 32,
   "metadata": {},
   "outputs": [
    {
     "name": "stdout",
     "output_type": "stream",
     "text": [
      "(10000, 500)\n",
      "(10000,)\n",
      "(1000, 500)\n",
      "(1000,)\n"
     ]
    }
   ],
   "source": [
    "print(x_train.shape)\n",
    "print(y_train.shape)\n",
    "print(x_test.shape)\n",
    "print(y_test.shape)"
   ]
  },
  {
   "cell_type": "code",
   "execution_count": 33,
   "metadata": {},
   "outputs": [
    {
     "data": {
      "text/plain": [
       "SVC(C=1, kernel='poly')"
      ]
     },
     "execution_count": 33,
     "metadata": {},
     "output_type": "execute_result"
    }
   ],
   "source": [
    "from sklearn import svm\n",
    "svc = svm.SVC(probability=False,  kernel=\"poly\", C=1)\n",
    "svc.fit(x_train, y_train)"
   ]
  },
  {
   "cell_type": "code",
   "execution_count": 34,
   "metadata": {},
   "outputs": [
    {
     "name": "stdout",
     "output_type": "stream",
     "text": [
      "Train Accuracy = 0.711700\n",
      "[6 9 9 ... 1 1 7]\n"
     ]
    }
   ],
   "source": [
    "pred = svc.predict(x_train)\n",
    "acc_train = np.mean(pred == y_train)\n",
    "print('Train Accuracy = {0:f}'.format(acc_train))\n",
    "print(pred)"
   ]
  },
  {
   "cell_type": "code",
   "execution_count": 35,
   "metadata": {},
   "outputs": [
    {
     "name": "stdout",
     "output_type": "stream",
     "text": [
      "Test Accuracy = 0.394000\n",
      "[8 5 2 7 2 2 0 8 2 3 4 9 9 2 4 3 2 2 8 2 2 1 4 2 8 2 9 2 2 3 4 1 4 4 3 9 2\n",
      " 7 2 3 1 6 8 8 6 1 2 7 5 2 0 4 5 4 8 4 4 9 7 2 8 2 2 9 9 9 1 0 4 3 2 7 2 4\n",
      " 4 2 7 2 3 0 6 2 1 2 1 8 8 8 2 2 8 0 2 2 6 6 1 4 4 2 8 5 8 7 2 6 4 0 8 4 4\n",
      " 7 9 3 4 1 3 2 2 6 3 4 1 9 2 9 2 2 0 3 0 2 9 2 8 6 2 4 4 7 2 4 2 2 2 6 6 1\n",
      " 9 2 1 2 0 2 0 2 2 1 1 2 8 8 7 1 0 1 8 8 8 0 3 2 2 2 0 7 9 2 2 4 8 9 9 7 8\n",
      " 2 1 4 5 2 5 8 4 8 8 8 8 3 4 7 4 8 2 7 1 1 9 2 9 6 4 9 1 2 2 2 3 9 7 8 2 2\n",
      " 3 2 2 9 4 5 2 4 1 4 1 3 1 8 0 2 8 1 2 6 4 2 1 0 8 8 2 6 2 4 2 8 1 0 2 8 9\n",
      " 5 4 6 7 2 7 2 9 5 2 1 4 3 4 9 2 2 2 6 2 9 4 2 6 2 9 4 3 9 5 6 2 8 4 4 4 9\n",
      " 8 2 2 3 7 3 2 9 5 6 8 2 8 6 2 2 4 2 2 6 4 4 4 4 6 4 8 7 4 2 4 3 2 4 8 7 2\n",
      " 5 2 4 8 1 0 2 8 2 6 4 8 2 2 0 4 2 2 2 4 2 9 7 2 2 8 4 2 9 2 7 2 1 6 4 4 9\n",
      " 9 8 8 0 8 2 2 5 2 8 3 1 6 1 2 9 3 2 8 2 7 4 3 8 6 1 4 7 2 7 8 1 4 6 1 9 4\n",
      " 2 2 1 6 1 2 9 4 8 1 2 4 3 8 6 4 0 2 4 1 8 6 8 2 2 4 6 8 1 1 5 6 0 6 0 8 8\n",
      " 6 8 8 6 6 2 2 7 3 7 7 4 6 0 4 4 7 4 4 3 6 8 0 0 3 1 3 0 7 9 2 4 2 9 2 8 6\n",
      " 6 4 1 5 2 1 4 4 1 2 1 2 5 1 3 6 0 0 6 1 8 2 4 4 1 4 7 4 6 2 2 6 4 2 4 6 0\n",
      " 4 4 9 1 3 2 3 0 9 4 2 7 8 7 8 2 9 2 2 2 2 4 2 4 8 2 6 4 8 4 6 5 6 2 4 8 9\n",
      " 2 0 3 0 0 3 2 1 4 4 4 7 8 8 2 8 7 9 2 0 2 5 6 9 5 9 6 2 1 2 1 4 4 2 6 1 8\n",
      " 7 9 1 2 9 4 4 2 4 9 6 6 1 4 7 4 2 3 6 9 2 4 2 2 1 2 3 6 2 6 2 2 6 8 3 0 8\n",
      " 7 7 8 5 2 9 3 2 7 4 6 2 2 9 9 2 6 5 2 7 2 4 4 4 6 8 2 8 8 2 4 0 2 2 8 4 2\n",
      " 6 6 3 2 9 4 9 2 4 2 8 8 2 8 3 2 9 6 0 2 2 2 4 7 8 2 6 4 9 8 8 2 6 2 2 8 1\n",
      " 2 4 9 4 6 6 4 6 8 8 2 3 5 8 7 4 4 2 4 2 4 2 2 5 2 7 2 4 5 9 6 8 0 8 7 4 0\n",
      " 2 3 5 2 8 4 8 2 1 4 2 4 8 4 2 2 6 8 4 2 6 0 3 4 8 1 1 0 1 8 2 6 7 4 4 6 6\n",
      " 2 8 3 8 2 4 9 6 1 7 2 8 5 9 7 3 7 7 1 2 3 3 7 2 7 2 6 6 8 2 2 2 7 4 2 4 2\n",
      " 9 9 0 4 4 7 1 8 5 2 2 2 7 8 7 2 8 2 4 7 2 3 6 0 8 8 2 2 8 3 8 2 7 1 2 1 7\n",
      " 8 8 2 6 2 0 8 2 4 2 8 0 0 9 1 2 5 0 2 2 2 3 2 2 1 8 8 9 9 9 2 5 0 2 5 1 8\n",
      " 2 3 4 8 4 4 0 6 0 8 4 2 2 8 4 4 9 8 2 7 9 6 8 5 5 4 6 8 2 9 2 1 2 0 3 2 0\n",
      " 2 9 3 4 6 0 9 9 7 3 2 8 3 3 4 3 2 9 7 1 3 4 9 6 4 4 4 4 3 4 8 4 4 2 2 2 4\n",
      " 6 2 5 3 6 2 8 2 3 9 8 2 2 8 4 1 3 5 8 2 6 4 4 8 4 2 2 7 3 3 2 8 2 8 4 9 8\n",
      " 2]\n"
     ]
    }
   ],
   "source": [
    "pred = svc.predict(x_test)\n",
    "acc_test = np.mean(pred == y_test)\n",
    "print('Test Accuracy = {0:f}'.format(acc_test))\n",
    "print(pred)"
   ]
  },
  {
   "cell_type": "code",
   "execution_count": null,
   "metadata": {},
   "outputs": [],
   "source": []
  }
 ],
 "metadata": {
  "kernelspec": {
   "display_name": "Python 3",
   "language": "python",
   "name": "python3"
  },
  "language_info": {
   "codemirror_mode": {
    "name": "ipython",
    "version": 3
   },
   "file_extension": ".py",
   "mimetype": "text/x-python",
   "name": "python",
   "nbconvert_exporter": "python",
   "pygments_lexer": "ipython3",
   "version": "3.8.5"
  }
 },
 "nbformat": 4,
 "nbformat_minor": 4
}
